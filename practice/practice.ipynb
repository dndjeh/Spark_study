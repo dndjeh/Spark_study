{
 "cells": [
  {
   "cell_type": "code",
   "execution_count": 3,
   "id": "584920ad",
   "metadata": {},
   "outputs": [],
   "source": [
    "# 셀 1: SparkSession 생성\n",
    "from pyspark.sql import SparkSession\n",
    "\n",
    "spark = SparkSession.builder \\\n",
    "    .appName(\"아따 하기 힘드네\") \\\n",
    "    .config(\"spark.ui.enabled\", \"true\") \\\n",
    "    .config(\"spark.ui.port\", \"4040\") \\\n",
    "    .getOrCreate()\n"
   ]
  },
  {
   "cell_type": "code",
   "execution_count": 4,
   "id": "63077227",
   "metadata": {},
   "outputs": [
    {
     "name": "stdout",
     "output_type": "stream",
     "text": [
      "+--------------------+--------------------+------------------+--------------------+\n",
      "|               title|             content|              date|                 url|\n",
      "+--------------------+--------------------+------------------+--------------------+\n",
      "|Hyundai, POSCO jo...| Hyundai Motor Gr...|2025. 4. 22. 09:08|http://v.daum.net...|\n",
      "|Hyundai, POSCO se...|South Korea’s Hyu...|2025. 4. 21. 16:00|http://v.daum.net...|\n",
      "|Steel rivals join...| Hyundai Motor Gr...|2025. 4. 21. 17:58|http://v.daum.net...|\n",
      "|POSCO Future M to...| The company anno...|2025. 4. 23. 11:03|http://v.daum.net...|\n",
      "|POSCO to co-inves...| Hyundai Motor an...|2025. 4. 22. 10:54|http://v.daum.net...|\n",
      "+--------------------+--------------------+------------------+--------------------+\n",
      "only showing top 5 rows\n",
      "\n"
     ]
    }
   ],
   "source": [
    "# 셀 2: CSV 파일 읽기\n",
    "df = spark.read.csv(\"data_posco.csv\", header=True, inferSchema=True)\n",
    "df.show(5)\n"
   ]
  },
  {
   "cell_type": "code",
   "execution_count": 5,
   "id": "80bf2645",
   "metadata": {},
   "outputs": [
    {
     "name": "stdout",
     "output_type": "stream",
     "text": [
      "+--------------------+------------------+\n",
      "|               title|              date|\n",
      "+--------------------+------------------+\n",
      "|Hyundai, POSCO jo...|2025. 4. 22. 09:08|\n",
      "|Hyundai, POSCO se...|2025. 4. 21. 16:00|\n",
      "|Steel rivals join...|2025. 4. 21. 17:58|\n",
      "|POSCO to co-inves...|2025. 4. 22. 10:54|\n",
      "|Posco, Hyundai si...|2025. 4. 21. 11:14|\n",
      "|New alliances: Hy...|2025. 4. 21. 14:54|\n",
      "|[Minute to Read] ...|2025. 4. 23. 07:00|\n",
      "|POSCO Internation...|2025. 4. 16. 10:24|\n",
      "|POSCO considers i...|2025. 4. 14. 11:30|\n",
      "+--------------------+------------------+\n",
      "\n"
     ]
    }
   ],
   "source": [
    "# 셀 3: SQL 쿼리 사용\n",
    "df.createOrReplaceTempView(\"my_table\")\n",
    "result = spark.sql(\"SELECT title, date FROM my_table WHERE content LIKE '%Hyundai%'\")\n",
    "result.show()\n"
   ]
  },
  {
   "cell_type": "code",
   "execution_count": 6,
   "id": "c3fe7fc8",
   "metadata": {},
   "outputs": [],
   "source": [
    "# 셀 4: Spark UI 보기 위해 일시 정지\n",
    "input(\"Spark UI(http://localhost:4040) 확인 후 Enter를 누르세요...\")\n",
    "spark.stop()\n"
   ]
  }
 ],
 "metadata": {
  "kernelspec": {
   "display_name": "base",
   "language": "python",
   "name": "python3"
  },
  "language_info": {
   "codemirror_mode": {
    "name": "ipython",
    "version": 3
   },
   "file_extension": ".py",
   "mimetype": "text/x-python",
   "name": "python",
   "nbconvert_exporter": "python",
   "pygments_lexer": "ipython3",
   "version": "3.11.5"
  }
 },
 "nbformat": 4,
 "nbformat_minor": 5
}
